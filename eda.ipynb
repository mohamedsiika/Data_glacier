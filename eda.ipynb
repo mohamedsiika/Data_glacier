{
  "nbformat": 4,
  "nbformat_minor": 0,
  "metadata": {
    "colab": {
      "name": "eda.ipynb",
      "provenance": []
    },
    "kernelspec": {
      "name": "python3",
      "display_name": "Python 3"
    },
    "language_info": {
      "name": "python"
    }
  },
  "cells": [
    {
      "cell_type": "code",
      "metadata": {
        "id": "fAW-zCK2wiqw"
      },
      "source": [
        "\n",
        "import pandas as pd\n",
        "import numpy as np\n",
        "import seaborn as sns #visualisation\n",
        "import matplotlib.pyplot as plt #visualisation\n",
        "%matplotlib inline \n",
        "  import xlrd\n",
        "from  matplotlib.ticker import PercentFormatter\n",
        "sns.set(color_codes=True)"
      ],
      "execution_count": null,
      "outputs": []
    },
    {
      "cell_type": "code",
      "metadata": {
        "id": "-OejAE1K5Z-_"
      },
      "source": [
        "capData=pd.read_csv(\"Cab_Data.csv\")\n",
        "customer=pd.read_csv(\"Customer_ID.csv\")\n",
        "city=pd.read_csv(\"City.csv\")\n",
        "transaction=pd.read_csv(\"Transaction_ID.csv\")"
      ],
      "execution_count": null,
      "outputs": []
    },
    {
      "cell_type": "markdown",
      "metadata": {
        "id": "9b7BoRJWE3Eg"
      },
      "source": [
        "# Preparing Data\n",
        "\n",
        "I merged the four Datasets in one dataset to be able to do queries on them. also I have added 4 new columns that I will be using through the investigating.\n",
        "\n",
        "\n",
        "1.   years column:\n",
        "\n",
        "    #includes the year in the transaction Date\n",
        "2.   months column:\n",
        "\n",
        "    #includes the month in the transaction Date\n",
        "3.   Days column:\n",
        "\n",
        "    #includes the days in the transaction Date\n",
        "2.   profit column:\n",
        "\n",
        "    #it is the profit that the company made after a specific trip \n",
        "\n",
        "\n",
        "\n",
        "\n"
      ]
    },
    {
      "cell_type": "code",
      "metadata": {
        "colab": {
          "base_uri": "https://localhost:8080/",
          "height": 342
        },
        "id": "-3mNUlvBUAo2",
        "outputId": "dcfd5836-922c-4a3e-fbb7-72bc57a44745"
      },
      "source": [
        "#we merge the datasets together in one dataset\n",
        "data=capData.merge(right=transaction)\n",
        "data=data.merge(right=customer)\n",
        "data=data.merge(right=city)\n",
        "#adjusting the date\n",
        "data['Date of Travel'] = data['Date of Travel'].apply(lambda s: xlrd.xldate.xldate_as_datetime(s, 0))\n",
        "#add a new columns called years,months,days\n",
        "data['years']=pd.DatetimeIndex(data['Date of Travel']).year\n",
        "data['months']=pd.DatetimeIndex(data['Date of Travel']).month\n",
        "data['days']=pd.DatetimeIndex(data['Date of Travel']).day\n",
        "#add a new column called profit (it is the profit during the trip)\n",
        "data['profit']=data['Price Charged']-data['Cost of Trip']\n",
        "data.head()"
      ],
      "execution_count": null,
      "outputs": [
        {
          "output_type": "execute_result",
          "data": {
            "text/html": [
              "<div>\n",
              "<style scoped>\n",
              "    .dataframe tbody tr th:only-of-type {\n",
              "        vertical-align: middle;\n",
              "    }\n",
              "\n",
              "    .dataframe tbody tr th {\n",
              "        vertical-align: top;\n",
              "    }\n",
              "\n",
              "    .dataframe thead th {\n",
              "        text-align: right;\n",
              "    }\n",
              "</style>\n",
              "<table border=\"1\" class=\"dataframe\">\n",
              "  <thead>\n",
              "    <tr style=\"text-align: right;\">\n",
              "      <th></th>\n",
              "      <th>Transaction ID</th>\n",
              "      <th>Date of Travel</th>\n",
              "      <th>Company</th>\n",
              "      <th>City</th>\n",
              "      <th>KM Travelled</th>\n",
              "      <th>Price Charged</th>\n",
              "      <th>Cost of Trip</th>\n",
              "      <th>Customer ID</th>\n",
              "      <th>Payment_Mode</th>\n",
              "      <th>Gender</th>\n",
              "      <th>Age</th>\n",
              "      <th>Income (USD/Month)</th>\n",
              "      <th>Population</th>\n",
              "      <th>Users</th>\n",
              "      <th>years</th>\n",
              "      <th>months</th>\n",
              "      <th>days</th>\n",
              "      <th>profit</th>\n",
              "    </tr>\n",
              "  </thead>\n",
              "  <tbody>\n",
              "    <tr>\n",
              "      <th>0</th>\n",
              "      <td>10000011</td>\n",
              "      <td>2016-01-08</td>\n",
              "      <td>Pink Cab</td>\n",
              "      <td>ATLANTA GA</td>\n",
              "      <td>30.45</td>\n",
              "      <td>370.95</td>\n",
              "      <td>313.6350</td>\n",
              "      <td>29290</td>\n",
              "      <td>Card</td>\n",
              "      <td>Male</td>\n",
              "      <td>28</td>\n",
              "      <td>10813</td>\n",
              "      <td>814,885</td>\n",
              "      <td>24,701</td>\n",
              "      <td>2016</td>\n",
              "      <td>1</td>\n",
              "      <td>8</td>\n",
              "      <td>57.3150</td>\n",
              "    </tr>\n",
              "    <tr>\n",
              "      <th>1</th>\n",
              "      <td>10351127</td>\n",
              "      <td>2018-07-21</td>\n",
              "      <td>Yellow Cab</td>\n",
              "      <td>ATLANTA GA</td>\n",
              "      <td>26.19</td>\n",
              "      <td>598.70</td>\n",
              "      <td>317.4228</td>\n",
              "      <td>29290</td>\n",
              "      <td>Cash</td>\n",
              "      <td>Male</td>\n",
              "      <td>28</td>\n",
              "      <td>10813</td>\n",
              "      <td>814,885</td>\n",
              "      <td>24,701</td>\n",
              "      <td>2018</td>\n",
              "      <td>7</td>\n",
              "      <td>21</td>\n",
              "      <td>281.2772</td>\n",
              "    </tr>\n",
              "    <tr>\n",
              "      <th>2</th>\n",
              "      <td>10412921</td>\n",
              "      <td>2018-11-23</td>\n",
              "      <td>Yellow Cab</td>\n",
              "      <td>ATLANTA GA</td>\n",
              "      <td>42.55</td>\n",
              "      <td>792.05</td>\n",
              "      <td>597.4020</td>\n",
              "      <td>29290</td>\n",
              "      <td>Card</td>\n",
              "      <td>Male</td>\n",
              "      <td>28</td>\n",
              "      <td>10813</td>\n",
              "      <td>814,885</td>\n",
              "      <td>24,701</td>\n",
              "      <td>2018</td>\n",
              "      <td>11</td>\n",
              "      <td>23</td>\n",
              "      <td>194.6480</td>\n",
              "    </tr>\n",
              "    <tr>\n",
              "      <th>3</th>\n",
              "      <td>10000012</td>\n",
              "      <td>2016-01-06</td>\n",
              "      <td>Pink Cab</td>\n",
              "      <td>ATLANTA GA</td>\n",
              "      <td>28.62</td>\n",
              "      <td>358.52</td>\n",
              "      <td>334.8540</td>\n",
              "      <td>27703</td>\n",
              "      <td>Card</td>\n",
              "      <td>Male</td>\n",
              "      <td>27</td>\n",
              "      <td>9237</td>\n",
              "      <td>814,885</td>\n",
              "      <td>24,701</td>\n",
              "      <td>2016</td>\n",
              "      <td>1</td>\n",
              "      <td>6</td>\n",
              "      <td>23.6660</td>\n",
              "    </tr>\n",
              "    <tr>\n",
              "      <th>4</th>\n",
              "      <td>10320494</td>\n",
              "      <td>2018-04-21</td>\n",
              "      <td>Yellow Cab</td>\n",
              "      <td>ATLANTA GA</td>\n",
              "      <td>36.38</td>\n",
              "      <td>721.10</td>\n",
              "      <td>467.1192</td>\n",
              "      <td>27703</td>\n",
              "      <td>Card</td>\n",
              "      <td>Male</td>\n",
              "      <td>27</td>\n",
              "      <td>9237</td>\n",
              "      <td>814,885</td>\n",
              "      <td>24,701</td>\n",
              "      <td>2018</td>\n",
              "      <td>4</td>\n",
              "      <td>21</td>\n",
              "      <td>253.9808</td>\n",
              "    </tr>\n",
              "  </tbody>\n",
              "</table>\n",
              "</div>"
            ],
            "text/plain": [
              "   Transaction ID Date of Travel     Company  ... months  days    profit\n",
              "0        10000011     2016-01-08    Pink Cab  ...      1     8   57.3150\n",
              "1        10351127     2018-07-21  Yellow Cab  ...      7    21  281.2772\n",
              "2        10412921     2018-11-23  Yellow Cab  ...     11    23  194.6480\n",
              "3        10000012     2016-01-06    Pink Cab  ...      1     6   23.6660\n",
              "4        10320494     2018-04-21  Yellow Cab  ...      4    21  253.9808\n",
              "\n",
              "[5 rows x 18 columns]"
            ]
          },
          "metadata": {
            "tags": []
          },
          "execution_count": 3
        }
      ]
    },
    {
      "cell_type": "markdown",
      "metadata": {
        "id": "RhZYyLQXOShc"
      },
      "source": [
        "investigating the average profit of the trip per year for each company "
      ]
    },
    {
      "cell_type": "code",
      "metadata": {
        "colab": {
          "base_uri": "https://localhost:8080/"
        },
        "id": "fj6rw0TeWh9S",
        "outputId": "f3c18431-0b3c-4a74-9d77-320cced767d0"
      },
      "source": [
        "avg_profit_year=data.groupby(['years', 'Company']).mean()['profit']\n",
        "avg_profit_year"
      ],
      "execution_count": null,
      "outputs": [
        {
          "output_type": "execute_result",
          "data": {
            "text/plain": [
              "years  Company   \n",
              "2016   Pink Cab       68.321819\n",
              "       Yellow Cab    169.347821\n",
              "2017   Pink Cab       67.070839\n",
              "       Yellow Cab    168.817057\n",
              "2018   Pink Cab       53.229689\n",
              "       Yellow Cab    143.416122\n",
              "Name: profit, dtype: float64"
            ]
          },
          "metadata": {
            "tags": []
          },
          "execution_count": 4
        }
      ]
    },
    {
      "cell_type": "markdown",
      "metadata": {
        "id": "Q7c1y34qObq2"
      },
      "source": [
        "**It appears that \"yellow cap\" has a higher average profit in the three years.**\n"
      ]
    },
    {
      "cell_type": "code",
      "metadata": {
        "id": "L8tbNAnMXJOB",
        "colab": {
          "base_uri": "https://localhost:8080/",
          "height": 303
        },
        "outputId": "a8731d9e-c647-42da-cb2c-6b26d0ab9c52"
      },
      "source": [
        "sns.barplot(x=data['years'],y=data['profit'],hue=data['Company'],data=data)"
      ],
      "execution_count": null,
      "outputs": [
        {
          "output_type": "execute_result",
          "data": {
            "text/plain": [
              "<matplotlib.axes._subplots.AxesSubplot at 0x7f85b980eb50>"
            ]
          },
          "metadata": {
            "tags": []
          },
          "execution_count": 5
        },
        {
          "output_type": "display_data",
          "data": {
            "image/png": "[encoded data removed]",
            "text/plain": [
              "<Figure size 432x288 with 1 Axes>"
            ]
          },
          "metadata": {
            "tags": [],
            "needs_background": "light"
          }
        }
      ]
    },
    {
      "cell_type": "markdown",
      "metadata": {
        "id": "2Iii7NoTNIrh"
      },
      "source": [
        "# City Success\n",
        "now we investigate the number of unique users for each company inside each city"
      ]
    },
    {
      "cell_type": "code",
      "metadata": {
        "colab": {
          "base_uri": "https://localhost:8080/",
          "height": 1000
        },
        "id": "7pJqXeOXwnAi",
        "outputId": "e132eb81-041c-4ef7-df56-435660bde5fa"
      },
      "source": [
        "no_customer_city=data.groupby(['City','Company']).nunique()['Customer ID']\n",
        "no_customer_city=no_customer_city.add_suffix(' ').reset_index()\n",
        "no_customer_city"
      ],
      "execution_count": null,
      "outputs": [
        {
          "output_type": "execute_result",
          "data": {
            "text/html": [
              "<div>\n",
              "<style scoped>\n",
              "    .dataframe tbody tr th:only-of-type {\n",
              "        vertical-align: middle;\n",
              "    }\n",
              "\n",
              "    .dataframe tbody tr th {\n",
              "        vertical-align: top;\n",
              "    }\n",
              "\n",
              "    .dataframe thead th {\n",
              "        text-align: right;\n",
              "    }\n",
              "</style>\n",
              "<table border=\"1\" class=\"dataframe\">\n",
              "  <thead>\n",
              "    <tr style=\"text-align: right;\">\n",
              "      <th></th>\n",
              "      <th>City</th>\n",
              "      <th>Company</th>\n",
              "      <th>Customer ID</th>\n",
              "    </tr>\n",
              "  </thead>\n",
              "  <tbody>\n",
              "    <tr>\n",
              "      <th>0</th>\n",
              "      <td>ATLANTA GA</td>\n",
              "      <td>Pink Cab</td>\n",
              "      <td>1322</td>\n",
              "    </tr>\n",
              "    <tr>\n",
              "      <th>1</th>\n",
              "      <td>ATLANTA GA</td>\n",
              "      <td>Yellow Cab</td>\n",
              "      <td>2595</td>\n",
              "    </tr>\n",
              "    <tr>\n",
              "      <th>2</th>\n",
              "      <td>AUSTIN TX</td>\n",
              "      <td>Pink Cab</td>\n",
              "      <td>1354</td>\n",
              "    </tr>\n",
              "    <tr>\n",
              "      <th>3</th>\n",
              "      <td>AUSTIN TX</td>\n",
              "      <td>Yellow Cab</td>\n",
              "      <td>1914</td>\n",
              "    </tr>\n",
              "    <tr>\n",
              "      <th>4</th>\n",
              "      <td>BOSTON MA</td>\n",
              "      <td>Pink Cab</td>\n",
              "      <td>2463</td>\n",
              "    </tr>\n",
              "    <tr>\n",
              "      <th>5</th>\n",
              "      <td>BOSTON MA</td>\n",
              "      <td>Yellow Cab</td>\n",
              "      <td>2997</td>\n",
              "    </tr>\n",
              "    <tr>\n",
              "      <th>6</th>\n",
              "      <td>CHICAGO IL</td>\n",
              "      <td>Pink Cab</td>\n",
              "      <td>2859</td>\n",
              "    </tr>\n",
              "    <tr>\n",
              "      <th>7</th>\n",
              "      <td>CHICAGO IL</td>\n",
              "      <td>Yellow Cab</td>\n",
              "      <td>3000</td>\n",
              "    </tr>\n",
              "    <tr>\n",
              "      <th>8</th>\n",
              "      <td>DALLAS TX</td>\n",
              "      <td>Pink Cab</td>\n",
              "      <td>1118</td>\n",
              "    </tr>\n",
              "    <tr>\n",
              "      <th>9</th>\n",
              "      <td>DALLAS TX</td>\n",
              "      <td>Yellow Cab</td>\n",
              "      <td>2564</td>\n",
              "    </tr>\n",
              "    <tr>\n",
              "      <th>10</th>\n",
              "      <td>DENVER CO</td>\n",
              "      <td>Pink Cab</td>\n",
              "      <td>1145</td>\n",
              "    </tr>\n",
              "    <tr>\n",
              "      <th>11</th>\n",
              "      <td>DENVER CO</td>\n",
              "      <td>Yellow Cab</td>\n",
              "      <td>1681</td>\n",
              "    </tr>\n",
              "    <tr>\n",
              "      <th>12</th>\n",
              "      <td>LOS ANGELES CA</td>\n",
              "      <td>Pink Cab</td>\n",
              "      <td>2996</td>\n",
              "    </tr>\n",
              "    <tr>\n",
              "      <th>13</th>\n",
              "      <td>LOS ANGELES CA</td>\n",
              "      <td>Yellow Cab</td>\n",
              "      <td>2998</td>\n",
              "    </tr>\n",
              "    <tr>\n",
              "      <th>14</th>\n",
              "      <td>MIAMI FL</td>\n",
              "      <td>Pink Cab</td>\n",
              "      <td>1480</td>\n",
              "    </tr>\n",
              "    <tr>\n",
              "      <th>15</th>\n",
              "      <td>MIAMI FL</td>\n",
              "      <td>Yellow Cab</td>\n",
              "      <td>2334</td>\n",
              "    </tr>\n",
              "    <tr>\n",
              "      <th>16</th>\n",
              "      <td>NASHVILLE TN</td>\n",
              "      <td>Pink Cab</td>\n",
              "      <td>1356</td>\n",
              "    </tr>\n",
              "    <tr>\n",
              "      <th>17</th>\n",
              "      <td>NASHVILLE TN</td>\n",
              "      <td>Yellow Cab</td>\n",
              "      <td>965</td>\n",
              "    </tr>\n",
              "    <tr>\n",
              "      <th>18</th>\n",
              "      <td>NEW YORK NY</td>\n",
              "      <td>Pink Cab</td>\n",
              "      <td>2972</td>\n",
              "    </tr>\n",
              "    <tr>\n",
              "      <th>19</th>\n",
              "      <td>NEW YORK NY</td>\n",
              "      <td>Yellow Cab</td>\n",
              "      <td>3000</td>\n",
              "    </tr>\n",
              "    <tr>\n",
              "      <th>20</th>\n",
              "      <td>ORANGE COUNTY</td>\n",
              "      <td>Pink Cab</td>\n",
              "      <td>1198</td>\n",
              "    </tr>\n",
              "    <tr>\n",
              "      <th>21</th>\n",
              "      <td>ORANGE COUNTY</td>\n",
              "      <td>Yellow Cab</td>\n",
              "      <td>1712</td>\n",
              "    </tr>\n",
              "    <tr>\n",
              "      <th>22</th>\n",
              "      <td>PHOENIX AZ</td>\n",
              "      <td>Pink Cab</td>\n",
              "      <td>763</td>\n",
              "    </tr>\n",
              "    <tr>\n",
              "      <th>23</th>\n",
              "      <td>PHOENIX AZ</td>\n",
              "      <td>Yellow Cab</td>\n",
              "      <td>994</td>\n",
              "    </tr>\n",
              "    <tr>\n",
              "      <th>24</th>\n",
              "      <td>PITTSBURGH PA</td>\n",
              "      <td>Pink Cab</td>\n",
              "      <td>604</td>\n",
              "    </tr>\n",
              "    <tr>\n",
              "      <th>25</th>\n",
              "      <td>PITTSBURGH PA</td>\n",
              "      <td>Yellow Cab</td>\n",
              "      <td>574</td>\n",
              "    </tr>\n",
              "    <tr>\n",
              "      <th>26</th>\n",
              "      <td>SACRAMENTO CA</td>\n",
              "      <td>Pink Cab</td>\n",
              "      <td>1078</td>\n",
              "    </tr>\n",
              "    <tr>\n",
              "      <th>27</th>\n",
              "      <td>SACRAMENTO CA</td>\n",
              "      <td>Yellow Cab</td>\n",
              "      <td>880</td>\n",
              "    </tr>\n",
              "    <tr>\n",
              "      <th>28</th>\n",
              "      <td>SAN DIEGO CA</td>\n",
              "      <td>Pink Cab</td>\n",
              "      <td>2909</td>\n",
              "    </tr>\n",
              "    <tr>\n",
              "      <th>29</th>\n",
              "      <td>SAN DIEGO CA</td>\n",
              "      <td>Yellow Cab</td>\n",
              "      <td>2886</td>\n",
              "    </tr>\n",
              "    <tr>\n",
              "      <th>30</th>\n",
              "      <td>SEATTLE WA</td>\n",
              "      <td>Pink Cab</td>\n",
              "      <td>1790</td>\n",
              "    </tr>\n",
              "    <tr>\n",
              "      <th>31</th>\n",
              "      <td>SEATTLE WA</td>\n",
              "      <td>Yellow Cab</td>\n",
              "      <td>2486</td>\n",
              "    </tr>\n",
              "    <tr>\n",
              "      <th>32</th>\n",
              "      <td>SILICON VALLEY</td>\n",
              "      <td>Pink Cab</td>\n",
              "      <td>2130</td>\n",
              "    </tr>\n",
              "    <tr>\n",
              "      <th>33</th>\n",
              "      <td>SILICON VALLEY</td>\n",
              "      <td>Yellow Cab</td>\n",
              "      <td>2382</td>\n",
              "    </tr>\n",
              "    <tr>\n",
              "      <th>34</th>\n",
              "      <td>TUCSON AZ</td>\n",
              "      <td>Pink Cab</td>\n",
              "      <td>684</td>\n",
              "    </tr>\n",
              "    <tr>\n",
              "      <th>35</th>\n",
              "      <td>TUCSON AZ</td>\n",
              "      <td>Yellow Cab</td>\n",
              "      <td>934</td>\n",
              "    </tr>\n",
              "    <tr>\n",
              "      <th>36</th>\n",
              "      <td>WASHINGTON DC</td>\n",
              "      <td>Pink Cab</td>\n",
              "      <td>2109</td>\n",
              "    </tr>\n",
              "    <tr>\n",
              "      <th>37</th>\n",
              "      <td>WASHINGTON DC</td>\n",
              "      <td>Yellow Cab</td>\n",
              "      <td>3000</td>\n",
              "    </tr>\n",
              "  </tbody>\n",
              "</table>\n",
              "</div>"
            ],
            "text/plain": [
              "               City      Company  Customer ID\n",
              "0       ATLANTA GA     Pink Cab          1322\n",
              "1       ATLANTA GA   Yellow Cab          2595\n",
              "2        AUSTIN TX     Pink Cab          1354\n",
              "3        AUSTIN TX   Yellow Cab          1914\n",
              "4        BOSTON MA     Pink Cab          2463\n",
              "5        BOSTON MA   Yellow Cab          2997\n",
              "6       CHICAGO IL     Pink Cab          2859\n",
              "7       CHICAGO IL   Yellow Cab          3000\n",
              "8        DALLAS TX     Pink Cab          1118\n",
              "9        DALLAS TX   Yellow Cab          2564\n",
              "10       DENVER CO     Pink Cab          1145\n",
              "11       DENVER CO   Yellow Cab          1681\n",
              "12  LOS ANGELES CA     Pink Cab          2996\n",
              "13  LOS ANGELES CA   Yellow Cab          2998\n",
              "14        MIAMI FL     Pink Cab          1480\n",
              "15        MIAMI FL   Yellow Cab          2334\n",
              "16    NASHVILLE TN     Pink Cab          1356\n",
              "17    NASHVILLE TN   Yellow Cab           965\n",
              "18     NEW YORK NY     Pink Cab          2972\n",
              "19     NEW YORK NY   Yellow Cab          3000\n",
              "20   ORANGE COUNTY     Pink Cab          1198\n",
              "21   ORANGE COUNTY   Yellow Cab          1712\n",
              "22      PHOENIX AZ     Pink Cab           763\n",
              "23      PHOENIX AZ   Yellow Cab           994\n",
              "24   PITTSBURGH PA     Pink Cab           604\n",
              "25   PITTSBURGH PA   Yellow Cab           574\n",
              "26   SACRAMENTO CA     Pink Cab          1078\n",
              "27   SACRAMENTO CA   Yellow Cab           880\n",
              "28    SAN DIEGO CA     Pink Cab          2909\n",
              "29    SAN DIEGO CA   Yellow Cab          2886\n",
              "30      SEATTLE WA     Pink Cab          1790\n",
              "31      SEATTLE WA   Yellow Cab          2486\n",
              "32  SILICON VALLEY     Pink Cab          2130\n",
              "33  SILICON VALLEY   Yellow Cab          2382\n",
              "34       TUCSON AZ     Pink Cab           684\n",
              "35       TUCSON AZ   Yellow Cab           934\n",
              "36   WASHINGTON DC     Pink Cab          2109\n",
              "37   WASHINGTON DC   Yellow Cab          3000"
            ]
          },
          "metadata": {
            "tags": []
          },
          "execution_count": 6
        }
      ]
    },
    {
      "cell_type": "markdown",
      "metadata": {
        "id": "zbZSA7V_Np5Q"
      },
      "source": [
        "**It appears that \"yellow cap\" has more customers in 16 cities while \"pink cap\" has more customers in just 3 Cities**\n"
      ]
    },
    {
      "cell_type": "code",
      "metadata": {
        "colab": {
          "base_uri": "https://localhost:8080/",
          "height": 424
        },
        "id": "72WFVKgq17E_",
        "outputId": "102bcd9b-7af0-4510-98cd-bcf5859b9544"
      },
      "source": [
        "sns.catplot(data=no_customer_city,x='City',y='Customer ID',hue=\"Company\",kind='bar',aspect=5)"
      ],
      "execution_count": null,
      "outputs": [
        {
          "output_type": "execute_result",
          "data": {
            "text/plain": [
              "<seaborn.axisgrid.FacetGrid at 0x7f85b8c502d0>"
            ]
          },
          "metadata": {
            "tags": []
          },
          "execution_count": 7
        },
        {
          "output_type": "display_data",
          "data": {
            "image/png": "[encoded data removed]",
            "text/plain": [
              "<Figure size 1902.1x360 with 1 Axes>"
            ]
          },
          "metadata": {
            "tags": [],
            "needs_background": "light"
          }
        }
      ]
    },
    {
      "cell_type": "markdown",
      "metadata": {
        "id": "8tCsG4pzK5AH"
      },
      "source": [
        "# trips depending on Date\n",
        "we will see here the change in the number of trips depending on the date(**monthly** or daily )"
      ]
    },
    {
      "cell_type": "code",
      "metadata": {
        "colab": {
          "base_uri": "https://localhost:8080/",
          "height": 418
        },
        "id": "Fum7l2kWXBsu",
        "outputId": "9553ef54-f1f6-463c-fa47-836c2a2b7cb3"
      },
      "source": [
        "no_customer_year=data.groupby(['years','months','Company']).nunique()['Transaction ID']\n",
        "no_customer_year=no_customer_year.reset_index()\n",
        "no_customer_year"
      ],
      "execution_count": null,
      "outputs": [
        {
          "output_type": "execute_result",
          "data": {
            "text/html": [
              "<div>\n",
              "<style scoped>\n",
              "    .dataframe tbody tr th:only-of-type {\n",
              "        vertical-align: middle;\n",
              "    }\n",
              "\n",
              "    .dataframe tbody tr th {\n",
              "        vertical-align: top;\n",
              "    }\n",
              "\n",
              "    .dataframe thead th {\n",
              "        text-align: right;\n",
              "    }\n",
              "</style>\n",
              "<table border=\"1\" class=\"dataframe\">\n",
              "  <thead>\n",
              "    <tr style=\"text-align: right;\">\n",
              "      <th></th>\n",
              "      <th>years</th>\n",
              "      <th>months</th>\n",
              "      <th>Company</th>\n",
              "      <th>Transaction ID</th>\n",
              "    </tr>\n",
              "  </thead>\n",
              "  <tbody>\n",
              "    <tr>\n",
              "      <th>0</th>\n",
              "      <td>2016</td>\n",
              "      <td>1</td>\n",
              "      <td>Pink Cab</td>\n",
              "      <td>927</td>\n",
              "    </tr>\n",
              "    <tr>\n",
              "      <th>1</th>\n",
              "      <td>2016</td>\n",
              "      <td>1</td>\n",
              "      <td>Yellow Cab</td>\n",
              "      <td>3719</td>\n",
              "    </tr>\n",
              "    <tr>\n",
              "      <th>2</th>\n",
              "      <td>2016</td>\n",
              "      <td>2</td>\n",
              "      <td>Pink Cab</td>\n",
              "      <td>1050</td>\n",
              "    </tr>\n",
              "    <tr>\n",
              "      <th>3</th>\n",
              "      <td>2016</td>\n",
              "      <td>2</td>\n",
              "      <td>Yellow Cab</td>\n",
              "      <td>4674</td>\n",
              "    </tr>\n",
              "    <tr>\n",
              "      <th>4</th>\n",
              "      <td>2016</td>\n",
              "      <td>3</td>\n",
              "      <td>Pink Cab</td>\n",
              "      <td>1231</td>\n",
              "    </tr>\n",
              "    <tr>\n",
              "      <th>...</th>\n",
              "      <td>...</td>\n",
              "      <td>...</td>\n",
              "      <td>...</td>\n",
              "      <td>...</td>\n",
              "    </tr>\n",
              "    <tr>\n",
              "      <th>67</th>\n",
              "      <td>2018</td>\n",
              "      <td>10</td>\n",
              "      <td>Yellow Cab</td>\n",
              "      <td>9727</td>\n",
              "    </tr>\n",
              "    <tr>\n",
              "      <th>68</th>\n",
              "      <td>2018</td>\n",
              "      <td>11</td>\n",
              "      <td>Pink Cab</td>\n",
              "      <td>3897</td>\n",
              "    </tr>\n",
              "    <tr>\n",
              "      <th>69</th>\n",
              "      <td>2018</td>\n",
              "      <td>11</td>\n",
              "      <td>Yellow Cab</td>\n",
              "      <td>11230</td>\n",
              "    </tr>\n",
              "    <tr>\n",
              "      <th>70</th>\n",
              "      <td>2018</td>\n",
              "      <td>12</td>\n",
              "      <td>Pink Cab</td>\n",
              "      <td>3800</td>\n",
              "    </tr>\n",
              "    <tr>\n",
              "      <th>71</th>\n",
              "      <td>2018</td>\n",
              "      <td>12</td>\n",
              "      <td>Yellow Cab</td>\n",
              "      <td>11766</td>\n",
              "    </tr>\n",
              "  </tbody>\n",
              "</table>\n",
              "<p>72 rows × 4 columns</p>\n",
              "</div>"
            ],
            "text/plain": [
              "    years  months     Company  Transaction ID\n",
              "0    2016       1    Pink Cab             927\n",
              "1    2016       1  Yellow Cab            3719\n",
              "2    2016       2    Pink Cab            1050\n",
              "3    2016       2  Yellow Cab            4674\n",
              "4    2016       3    Pink Cab            1231\n",
              "..    ...     ...         ...             ...\n",
              "67   2018      10  Yellow Cab            9727\n",
              "68   2018      11    Pink Cab            3897\n",
              "69   2018      11  Yellow Cab           11230\n",
              "70   2018      12    Pink Cab            3800\n",
              "71   2018      12  Yellow Cab           11766\n",
              "\n",
              "[72 rows x 4 columns]"
            ]
          },
          "metadata": {
            "tags": []
          },
          "execution_count": 8
        }
      ]
    },
    {
      "cell_type": "markdown",
      "metadata": {
        "id": "QrB0hQQSMGl3"
      },
      "source": [
        "** **bold text**Monthly**\n",
        "both of them make more trips in the second half of the year more than the first half.\n",
        "\n",
        "yellow cap has more trips in every month"
      ]
    },
    {
      "cell_type": "code",
      "metadata": {
        "colab": {
          "base_uri": "https://localhost:8080/",
          "height": 404
        },
        "id": "V4ST6qArYDkO",
        "outputId": "543446a6-b01a-4949-8602-812e9a1943e5"
      },
      "source": [
        "sns.relplot(data=no_customer_year,x='months',y=\"Transaction ID\",hue='Company',kind='line',col='years')"
      ],
      "execution_count": null,
      "outputs": [
        {
          "output_type": "execute_result",
          "data": {
            "text/plain": [
              "<seaborn.axisgrid.FacetGrid at 0x7f85b862b510>"
            ]
          },
          "metadata": {
            "tags": []
          },
          "execution_count": 9
        },
        {
          "output_type": "display_data",
          "data": {
            "image/png": "[encoded data removed]",
            "text/plain": [
              "<Figure size 1178.6x360 with 3 Axes>"
            ]
          },
          "metadata": {
            "tags": [],
            "needs_background": "light"
          }
        }
      ]
    },
    {
      "cell_type": "markdown",
      "metadata": {
        "id": "YiGXR8gaM98u"
      },
      "source": [
        "**Daily**\n",
        "Both of them have low number of trips in the last days of the month and that is due to that most of the people get paid at the begining of the month"
      ]
    },
    {
      "cell_type": "code",
      "metadata": {
        "colab": {
          "base_uri": "https://localhost:8080/",
          "height": 418
        },
        "id": "yfsydOOodM0r",
        "outputId": "20a90c80-b868-42ef-be73-c87b39bb87c2"
      },
      "source": [
        "no_transaction_day=data.groupby(['Company','days']).nunique()['Transaction ID']\n",
        "no_transaction_day=no_transaction_day.reset_index()\n",
        "no_transaction_day"
      ],
      "execution_count": null,
      "outputs": [
        {
          "output_type": "execute_result",
          "data": {
            "text/html": [
              "<div>\n",
              "<style scoped>\n",
              "    .dataframe tbody tr th:only-of-type {\n",
              "        vertical-align: middle;\n",
              "    }\n",
              "\n",
              "    .dataframe tbody tr th {\n",
              "        vertical-align: top;\n",
              "    }\n",
              "\n",
              "    .dataframe thead th {\n",
              "        text-align: right;\n",
              "    }\n",
              "</style>\n",
              "<table border=\"1\" class=\"dataframe\">\n",
              "  <thead>\n",
              "    <tr style=\"text-align: right;\">\n",
              "      <th></th>\n",
              "      <th>Company</th>\n",
              "      <th>days</th>\n",
              "      <th>Transaction ID</th>\n",
              "    </tr>\n",
              "  </thead>\n",
              "  <tbody>\n",
              "    <tr>\n",
              "      <th>0</th>\n",
              "      <td>Pink Cab</td>\n",
              "      <td>1</td>\n",
              "      <td>2875</td>\n",
              "    </tr>\n",
              "    <tr>\n",
              "      <th>1</th>\n",
              "      <td>Pink Cab</td>\n",
              "      <td>2</td>\n",
              "      <td>2664</td>\n",
              "    </tr>\n",
              "    <tr>\n",
              "      <th>2</th>\n",
              "      <td>Pink Cab</td>\n",
              "      <td>3</td>\n",
              "      <td>3124</td>\n",
              "    </tr>\n",
              "    <tr>\n",
              "      <th>3</th>\n",
              "      <td>Pink Cab</td>\n",
              "      <td>4</td>\n",
              "      <td>2560</td>\n",
              "    </tr>\n",
              "    <tr>\n",
              "      <th>4</th>\n",
              "      <td>Pink Cab</td>\n",
              "      <td>5</td>\n",
              "      <td>3033</td>\n",
              "    </tr>\n",
              "    <tr>\n",
              "      <th>...</th>\n",
              "      <td>...</td>\n",
              "      <td>...</td>\n",
              "      <td>...</td>\n",
              "    </tr>\n",
              "    <tr>\n",
              "      <th>57</th>\n",
              "      <td>Yellow Cab</td>\n",
              "      <td>27</td>\n",
              "      <td>8911</td>\n",
              "    </tr>\n",
              "    <tr>\n",
              "      <th>58</th>\n",
              "      <td>Yellow Cab</td>\n",
              "      <td>28</td>\n",
              "      <td>8539</td>\n",
              "    </tr>\n",
              "    <tr>\n",
              "      <th>59</th>\n",
              "      <td>Yellow Cab</td>\n",
              "      <td>29</td>\n",
              "      <td>8863</td>\n",
              "    </tr>\n",
              "    <tr>\n",
              "      <th>60</th>\n",
              "      <td>Yellow Cab</td>\n",
              "      <td>30</td>\n",
              "      <td>8371</td>\n",
              "    </tr>\n",
              "    <tr>\n",
              "      <th>61</th>\n",
              "      <td>Yellow Cab</td>\n",
              "      <td>31</td>\n",
              "      <td>5349</td>\n",
              "    </tr>\n",
              "  </tbody>\n",
              "</table>\n",
              "<p>62 rows × 3 columns</p>\n",
              "</div>"
            ],
            "text/plain": [
              "       Company  days  Transaction ID\n",
              "0     Pink Cab     1            2875\n",
              "1     Pink Cab     2            2664\n",
              "2     Pink Cab     3            3124\n",
              "3     Pink Cab     4            2560\n",
              "4     Pink Cab     5            3033\n",
              "..         ...   ...             ...\n",
              "57  Yellow Cab    27            8911\n",
              "58  Yellow Cab    28            8539\n",
              "59  Yellow Cab    29            8863\n",
              "60  Yellow Cab    30            8371\n",
              "61  Yellow Cab    31            5349\n",
              "\n",
              "[62 rows x 3 columns]"
            ]
          },
          "metadata": {
            "tags": []
          },
          "execution_count": 10
        }
      ]
    },
    {
      "cell_type": "code",
      "metadata": {
        "colab": {
          "base_uri": "https://localhost:8080/",
          "height": 404
        },
        "id": "pnBCNmuPhYIs",
        "outputId": "15f3327d-3efc-428f-e8bd-6c015a77efa5"
      },
      "source": [
        "sns.relplot(data=no_transaction_day,x='days',y=\"Transaction ID\",hue='Company',kind='line',aspect=2)"
      ],
      "execution_count": null,
      "outputs": [
        {
          "output_type": "execute_result",
          "data": {
            "text/plain": [
              "<seaborn.axisgrid.FacetGrid at 0x7f85b84edbd0>"
            ]
          },
          "metadata": {
            "tags": []
          },
          "execution_count": 11
        },
        {
          "output_type": "display_data",
          "data": {
            "image/png": "[encoded data removed]",
            "text/plain": [
              "<Figure size 818.6x360 with 1 Axes>"
            ]
          },
          "metadata": {
            "tags": [],
            "needs_background": "light"
          }
        }
      ]
    },
    {
      "cell_type": "code",
      "metadata": {
        "colab": {
          "base_uri": "https://localhost:8080/",
          "height": 508
        },
        "id": "H8S3-TLNfwmp",
        "outputId": "c9fc7787-b1fc-4521-8a05-063091cc1755"
      },
      "source": [
        "z=[]\n",
        "x=data.groupby([\"Company\",\"Gender\",\"years\"]).count()['City']\n",
        "x=x.reset_index()\n",
        "y=x.groupby(['Company','years']).sum()['City']\n",
        "y=y.reset_index()\n",
        "for i in range(len(x['City'])):\n",
        "  sum=0\n",
        "  for j in range(len(y['City'])):\n",
        "    if y['Company'][j]==x['Company'][i] and y['years'][j]==x['years'][i]:\n",
        "         sum=y['City'][j]\n",
        "  x['City'][i]=int((x['City'][i]/sum)*100)\n",
        "x=x.rename(columns={'City':'Gender Ratio'})\n",
        "x"
      ],
      "execution_count": null,
      "outputs": [
        {
          "output_type": "stream",
          "text": [
            "/usr/local/lib/python3.7/dist-packages/ipykernel_launcher.py:11: SettingWithCopyWarning: \n",
            "A value is trying to be set on a copy of a slice from a DataFrame\n",
            "\n",
            "See the caveats in the documentation: https://pandas.pydata.org/pandas-docs/stable/user_guide/indexing.html#returning-a-view-versus-a-copy\n",
            "  # This is added back by InteractiveShellApp.init_path()\n"
          ],
          "name": "stderr"
        },
        {
          "output_type": "execute_result",
          "data": {
            "text/html": [
              "<div>\n",
              "<style scoped>\n",
              "    .dataframe tbody tr th:only-of-type {\n",
              "        vertical-align: middle;\n",
              "    }\n",
              "\n",
              "    .dataframe tbody tr th {\n",
              "        vertical-align: top;\n",
              "    }\n",
              "\n",
              "    .dataframe thead th {\n",
              "        text-align: right;\n",
              "    }\n",
              "</style>\n",
              "<table border=\"1\" class=\"dataframe\">\n",
              "  <thead>\n",
              "    <tr style=\"text-align: right;\">\n",
              "      <th></th>\n",
              "      <th>Company</th>\n",
              "      <th>Gender</th>\n",
              "      <th>years</th>\n",
              "      <th>Gender Ratio</th>\n",
              "    </tr>\n",
              "  </thead>\n",
              "  <tbody>\n",
              "    <tr>\n",
              "      <th>0</th>\n",
              "      <td>Pink Cab</td>\n",
              "      <td>Female</td>\n",
              "      <td>2016</td>\n",
              "      <td>43</td>\n",
              "    </tr>\n",
              "    <tr>\n",
              "      <th>1</th>\n",
              "      <td>Pink Cab</td>\n",
              "      <td>Female</td>\n",
              "      <td>2017</td>\n",
              "      <td>44</td>\n",
              "    </tr>\n",
              "    <tr>\n",
              "      <th>2</th>\n",
              "      <td>Pink Cab</td>\n",
              "      <td>Female</td>\n",
              "      <td>2018</td>\n",
              "      <td>44</td>\n",
              "    </tr>\n",
              "    <tr>\n",
              "      <th>3</th>\n",
              "      <td>Pink Cab</td>\n",
              "      <td>Male</td>\n",
              "      <td>2016</td>\n",
              "      <td>56</td>\n",
              "    </tr>\n",
              "    <tr>\n",
              "      <th>4</th>\n",
              "      <td>Pink Cab</td>\n",
              "      <td>Male</td>\n",
              "      <td>2017</td>\n",
              "      <td>55</td>\n",
              "    </tr>\n",
              "    <tr>\n",
              "      <th>5</th>\n",
              "      <td>Pink Cab</td>\n",
              "      <td>Male</td>\n",
              "      <td>2018</td>\n",
              "      <td>55</td>\n",
              "    </tr>\n",
              "    <tr>\n",
              "      <th>6</th>\n",
              "      <td>Yellow Cab</td>\n",
              "      <td>Female</td>\n",
              "      <td>2016</td>\n",
              "      <td>41</td>\n",
              "    </tr>\n",
              "    <tr>\n",
              "      <th>7</th>\n",
              "      <td>Yellow Cab</td>\n",
              "      <td>Female</td>\n",
              "      <td>2017</td>\n",
              "      <td>42</td>\n",
              "    </tr>\n",
              "    <tr>\n",
              "      <th>8</th>\n",
              "      <td>Yellow Cab</td>\n",
              "      <td>Female</td>\n",
              "      <td>2018</td>\n",
              "      <td>42</td>\n",
              "    </tr>\n",
              "    <tr>\n",
              "      <th>9</th>\n",
              "      <td>Yellow Cab</td>\n",
              "      <td>Male</td>\n",
              "      <td>2016</td>\n",
              "      <td>58</td>\n",
              "    </tr>\n",
              "    <tr>\n",
              "      <th>10</th>\n",
              "      <td>Yellow Cab</td>\n",
              "      <td>Male</td>\n",
              "      <td>2017</td>\n",
              "      <td>57</td>\n",
              "    </tr>\n",
              "    <tr>\n",
              "      <th>11</th>\n",
              "      <td>Yellow Cab</td>\n",
              "      <td>Male</td>\n",
              "      <td>2018</td>\n",
              "      <td>57</td>\n",
              "    </tr>\n",
              "  </tbody>\n",
              "</table>\n",
              "</div>"
            ],
            "text/plain": [
              "       Company  Gender  years  Gender Ratio\n",
              "0     Pink Cab  Female   2016            43\n",
              "1     Pink Cab  Female   2017            44\n",
              "2     Pink Cab  Female   2018            44\n",
              "3     Pink Cab    Male   2016            56\n",
              "4     Pink Cab    Male   2017            55\n",
              "5     Pink Cab    Male   2018            55\n",
              "6   Yellow Cab  Female   2016            41\n",
              "7   Yellow Cab  Female   2017            42\n",
              "8   Yellow Cab  Female   2018            42\n",
              "9   Yellow Cab    Male   2016            58\n",
              "10  Yellow Cab    Male   2017            57\n",
              "11  Yellow Cab    Male   2018            57"
            ]
          },
          "metadata": {
            "tags": []
          },
          "execution_count": 12
        }
      ]
    },
    {
      "cell_type": "markdown",
      "metadata": {
        "id": "BKbIGvDOPUKd"
      },
      "source": [
        "#Gender Ratio \n",
        "gender ratio in each company per year"
      ]
    },
    {
      "cell_type": "code",
      "metadata": {
        "colab": {
          "base_uri": "https://localhost:8080/",
          "height": 386
        },
        "id": "T_Neyadaw3OR",
        "outputId": "27fa5ea1-c96e-47f2-deee-e68f738916a4"
      },
      "source": [
        "g=sns.catplot(data=x,x=\"years\",y='Gender Ratio',hue=\"Gender\",col=\"Company\",kind='bar')\n",
        "for ax in g.axes.flat:\n",
        "    ax.yaxis.set_major_formatter(PercentFormatter(100))\n",
        "plt.show()"
      ],
      "execution_count": null,
      "outputs": [
        {
          "output_type": "display_data",
          "data": {
            "image/png": "[encoded data removed]",
            "text/plain": [
              "<Figure size 799.725x360 with 2 Axes>"
            ]
          },
          "metadata": {
            "tags": [],
            "needs_background": "light"
          }
        }
      ]
    },
    {
      "cell_type": "markdown",
      "metadata": {
        "id": "PcAhHnhxQnYq"
      },
      "source": [
        "#Age GroupWise Profit\n"
      ]
    },
    {
      "cell_type": "code",
      "metadata": {
        "id": "l1PCfzaUDi7B",
        "colab": {
          "base_uri": "https://localhost:8080/",
          "height": 418
        },
        "outputId": "0199a8b6-76be-4025-b407-7cd11777517d"
      },
      "source": [
        "specific_ages=data.groupby(['Company','Age']).sum()['profit']\n",
        "specific_ages=specific_ages.reset_index()\n",
        "specific_ages"
      ],
      "execution_count": null,
      "outputs": [
        {
          "output_type": "execute_result",
          "data": {
            "text/html": [
              "<div>\n",
              "<style scoped>\n",
              "    .dataframe tbody tr th:only-of-type {\n",
              "        vertical-align: middle;\n",
              "    }\n",
              "\n",
              "    .dataframe tbody tr th {\n",
              "        vertical-align: top;\n",
              "    }\n",
              "\n",
              "    .dataframe thead th {\n",
              "        text-align: right;\n",
              "    }\n",
              "</style>\n",
              "<table border=\"1\" class=\"dataframe\">\n",
              "  <thead>\n",
              "    <tr style=\"text-align: right;\">\n",
              "      <th></th>\n",
              "      <th>Company</th>\n",
              "      <th>Age</th>\n",
              "      <th>profit</th>\n",
              "    </tr>\n",
              "  </thead>\n",
              "  <tbody>\n",
              "    <tr>\n",
              "      <th>0</th>\n",
              "      <td>Pink Cab</td>\n",
              "      <td>18</td>\n",
              "      <td>166558.4000</td>\n",
              "    </tr>\n",
              "    <tr>\n",
              "      <th>1</th>\n",
              "      <td>Pink Cab</td>\n",
              "      <td>19</td>\n",
              "      <td>182093.9100</td>\n",
              "    </tr>\n",
              "    <tr>\n",
              "      <th>2</th>\n",
              "      <td>Pink Cab</td>\n",
              "      <td>20</td>\n",
              "      <td>184770.9930</td>\n",
              "    </tr>\n",
              "    <tr>\n",
              "      <th>3</th>\n",
              "      <td>Pink Cab</td>\n",
              "      <td>21</td>\n",
              "      <td>162316.5280</td>\n",
              "    </tr>\n",
              "    <tr>\n",
              "      <th>4</th>\n",
              "      <td>Pink Cab</td>\n",
              "      <td>22</td>\n",
              "      <td>177174.6550</td>\n",
              "    </tr>\n",
              "    <tr>\n",
              "      <th>...</th>\n",
              "      <td>...</td>\n",
              "      <td>...</td>\n",
              "      <td>...</td>\n",
              "    </tr>\n",
              "    <tr>\n",
              "      <th>91</th>\n",
              "      <td>Yellow Cab</td>\n",
              "      <td>61</td>\n",
              "      <td>525286.6016</td>\n",
              "    </tr>\n",
              "    <tr>\n",
              "      <th>92</th>\n",
              "      <td>Yellow Cab</td>\n",
              "      <td>62</td>\n",
              "      <td>405650.0132</td>\n",
              "    </tr>\n",
              "    <tr>\n",
              "      <th>93</th>\n",
              "      <td>Yellow Cab</td>\n",
              "      <td>63</td>\n",
              "      <td>423724.9056</td>\n",
              "    </tr>\n",
              "    <tr>\n",
              "      <th>94</th>\n",
              "      <td>Yellow Cab</td>\n",
              "      <td>64</td>\n",
              "      <td>488370.4992</td>\n",
              "    </tr>\n",
              "    <tr>\n",
              "      <th>95</th>\n",
              "      <td>Yellow Cab</td>\n",
              "      <td>65</td>\n",
              "      <td>349911.4428</td>\n",
              "    </tr>\n",
              "  </tbody>\n",
              "</table>\n",
              "<p>96 rows × 3 columns</p>\n",
              "</div>"
            ],
            "text/plain": [
              "       Company  Age       profit\n",
              "0     Pink Cab   18  166558.4000\n",
              "1     Pink Cab   19  182093.9100\n",
              "2     Pink Cab   20  184770.9930\n",
              "3     Pink Cab   21  162316.5280\n",
              "4     Pink Cab   22  177174.6550\n",
              "..         ...  ...          ...\n",
              "91  Yellow Cab   61  525286.6016\n",
              "92  Yellow Cab   62  405650.0132\n",
              "93  Yellow Cab   63  423724.9056\n",
              "94  Yellow Cab   64  488370.4992\n",
              "95  Yellow Cab   65  349911.4428\n",
              "\n",
              "[96 rows x 3 columns]"
            ]
          },
          "metadata": {
            "tags": []
          },
          "execution_count": 16
        }
      ]
    },
    {
      "cell_type": "markdown",
      "metadata": {
        "id": "-yUUwRgOQ4LR"
      },
      "source": [
        "it appears that from age 40 or more make less profit in both company"
      ]
    },
    {
      "cell_type": "code",
      "metadata": {
        "colab": {
          "base_uri": "https://localhost:8080/",
          "height": 404
        },
        "id": "6M9teOWGtCjJ",
        "outputId": "99910b8f-ede4-4aef-99cc-209178b1ce2a"
      },
      "source": [
        "sns.relplot(data=specific_ages,x='Age',y=\"Customer ID\",hue='Company',kind='line',aspect=2)"
      ],
      "execution_count": null,
      "outputs": [
        {
          "output_type": "execute_result",
          "data": {
            "text/plain": [
              "<seaborn.axisgrid.FacetGrid at 0x7f85b840bc10>"
            ]
          },
          "metadata": {
            "tags": []
          },
          "execution_count": 15
        },
        {
          "output_type": "display_data",
          "data": {
            "image/png": "[encoded data removed]",
            "text/plain": [
              "<Figure size 818.6x360 with 1 Axes>"
            ]
          },
          "metadata": {
            "tags": [],
            "needs_background": "light"
          }
        }
      ]
    }
  ]
}