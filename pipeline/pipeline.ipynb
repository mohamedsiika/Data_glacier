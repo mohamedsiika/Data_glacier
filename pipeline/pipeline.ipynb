{
  "nbformat": 4,
  "nbformat_minor": 0,
  "metadata": {
    "colab": {
      "name": "pipeline.ipynb",
      "provenance": []
    },
    "kernelspec": {
      "name": "python3",
      "display_name": "Python 3"
    },
    "language_info": {
      "name": "python"
    }
  },
  "cells": [
    {
      "cell_type": "code",
      "metadata": {
        "id": "CkTouYWHqIDY"
      },
      "source": [
        "import pandas as pd\n",
        "import main as util\n"
      ],
      "execution_count": 9,
      "outputs": []
    },
    {
      "cell_type": "code",
      "metadata": {
        "id": "tiUCkMyxufxw"
      },
      "source": [
        "df=pd.read_csv('yellow_tripdata.csv')\n"
      ],
      "execution_count": 10,
      "outputs": []
    },
    {
      "cell_type": "code",
      "metadata": {
        "colab": {
          "base_uri": "https://localhost:8080/"
        },
        "id": "3iO_RBtneT2S",
        "outputId": "092ce0df-807e-439c-fc0e-c47bc8b6080a"
      },
      "source": [
        "df.info()"
      ],
      "execution_count": 11,
      "outputs": [
        {
          "output_type": "stream",
          "name": "stdout",
          "text": [
            "<class 'pandas.core.frame.DataFrame'>\n",
            "RangeIndex: 3615530 entries, 0 to 3615529\n",
            "Data columns (total 19 columns):\n",
            " #   Column                 Dtype  \n",
            "---  ------                 -----  \n",
            " 0   VendorID               int64  \n",
            " 1   tpep_pickup_datetime   object \n",
            " 2   tpep_dropoff_datetime  object \n",
            " 3   passenger_count        int64  \n",
            " 4   trip_distance          float64\n",
            " 5   pickup_longitude       float64\n",
            " 6   pickup_latitude        float64\n",
            " 7   RatecodeID             int64  \n",
            " 8   store_and_fwd_flag     object \n",
            " 9   dropoff_longitude      float64\n",
            " 10  dropoff_latitude       float64\n",
            " 11  payment_type           float64\n",
            " 12  fare_amount            float64\n",
            " 13  extra                  float64\n",
            " 14  mta_tax                float64\n",
            " 15  tip_amount             float64\n",
            " 16  tolls_amount           float64\n",
            " 17  improvement_surcharge  float64\n",
            " 18  total_amount           float64\n",
            "dtypes: float64(13), int64(3), object(3)\n",
            "memory usage: 524.1+ MB\n"
          ]
        }
      ]
    },
    {
      "cell_type": "code",
      "metadata": {
        "id": "S0oQqj275Myk",
        "colab": {
          "base_uri": "https://localhost:8080/"
        },
        "outputId": "d45b6125-8918-46a3-be7e-2ee108b0506e"
      },
      "source": [
        "configdata=util.config_file('file.Yaml')\n",
        "configdata"
      ],
      "execution_count": 12,
      "outputs": [
        {
          "output_type": "execute_result",
          "data": {
            "text/plain": [
              "{'columns': ['VendorID',\n",
              "  'tpep_pickup_datetime',\n",
              "  'tpep_dropoff_datetime',\n",
              "  'passenger_count',\n",
              "  'trip_distance',\n",
              "  'pickup_longitude',\n",
              "  'pickup_latitude',\n",
              "  'RatecodeID',\n",
              "  'store_and_fwd_flag',\n",
              "  'dropoff_longitude',\n",
              "  'dropoff_latitude',\n",
              "  'payment_type',\n",
              "  'fare_amount',\n",
              "  'extra',\n",
              "  'mta_tax',\n",
              "  'tip_amount',\n",
              "  'tolls_amount',\n",
              "  'improvement_surcharge',\n",
              "  'total_amount'],\n",
              " 'dataset_name': 'yellow_tripdata',\n",
              " 'file_type': 'csv'}"
            ]
          },
          "metadata": {},
          "execution_count": 12
        }
      ]
    },
    {
      "cell_type": "code",
      "metadata": {
        "colab": {
          "base_uri": "https://localhost:8080/"
        },
        "id": "CoJs6JfzzkDi",
        "outputId": "7f2fbd5a-70bc-47c7-9974-8dafdd8da31c"
      },
      "source": [
        "util.validation(configdata,df)\n"
      ],
      "execution_count": 13,
      "outputs": [
        {
          "output_type": "stream",
          "name": "stdout",
          "text": [
            "column name and column length validation passed\n"
          ]
        },
        {
          "output_type": "execute_result",
          "data": {
            "text/plain": [
              "1"
            ]
          },
          "metadata": {},
          "execution_count": 13
        }
      ]
    }
  ]
}